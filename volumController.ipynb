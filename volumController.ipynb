{
 "cells": [
  {
   "cell_type": "markdown",
   "id": "f2a28ac5",
   "metadata": {},
   "source": [
    "# importing packages"
   ]
  },
  {
   "cell_type": "code",
   "execution_count": 1,
   "id": "305767e5",
   "metadata": {},
   "outputs": [],
   "source": [
    "import cv2\n",
    "import numpy as np\n",
    "import os\n",
    "from matplotlib import pyplot as plt\n",
    "import time\n",
    "import mediapipe as mp\n",
    "import math\n",
    "from ctypes import cast, POINTER\n",
    "from comtypes import CLSCTX_ALL\n",
    "from pycaw.pycaw import AudioUtilities, IAudioEndpointVolume"
   ]
  },
  {
   "cell_type": "markdown",
   "id": "f8303907",
   "metadata": {},
   "source": [
    "# creating function to feed image data to media pipe model"
   ]
  },
  {
   "cell_type": "code",
   "execution_count": 2,
   "id": "62a96140",
   "metadata": {},
   "outputs": [],
   "source": [
    "def detect_mediapipe(image, model):\n",
    "    image = cv2.cvtColor(image, cv2.COLOR_BGR2RGB) # COLOR CONVERSION BGR 2 RGB\n",
    "    image.flags.writeable = False                  # Image is no longer writeable\n",
    "    results = model.process(image)                 # Make prediction\n",
    "    image.flags.writeable = True                   # Image is now writeable \n",
    "    image = cv2.cvtColor(image, cv2.COLOR_RGB2BGR) # COLOR COVERSION RGB 2 BGR\n",
    "    return image, results"
   ]
  },
  {
   "cell_type": "markdown",
   "id": "f992b55c",
   "metadata": {},
   "source": [
    "# creating function to draw styled landmarks"
   ]
  },
  {
   "cell_type": "code",
   "execution_count": 3,
   "id": "6046c058",
   "metadata": {},
   "outputs": [],
   "source": [
    "def draw_styled_landmarks(image, results):\n",
    "\n",
    "    # Draw left hand connections\n",
    "    mp_drawing.draw_landmarks(image, results.left_hand_landmarks, mp_holistic.HAND_CONNECTIONS, \n",
    "                             mp_drawing.DrawingSpec(color=(121,22,76), thickness=2, circle_radius=4), \n",
    "                             mp_drawing.DrawingSpec(color=(121,44,250), thickness=2, circle_radius=2)\n",
    "                             ) \n",
    "    # Draw right hand connections  \n",
    "    mp_drawing.draw_landmarks(image, results.right_hand_landmarks, mp_holistic.HAND_CONNECTIONS, \n",
    "                             mp_drawing.DrawingSpec(color=(245,117,66), thickness=2, circle_radius=4), \n",
    "                             mp_drawing.DrawingSpec(color=(245,66,230), thickness=2, circle_radius=2)\n",
    "                             )"
   ]
  },
  {
   "cell_type": "markdown",
   "id": "eefa4b01",
   "metadata": {},
   "source": [
    "# creating function to calculate distance and to draw a line"
   ]
  },
  {
   "cell_type": "code",
   "execution_count": 4,
   "id": "cecd0381",
   "metadata": {},
   "outputs": [],
   "source": [
    "def find_distance(image,p1,p2,color):\n",
    "    \n",
    "    # drawing a line between points p1 and p2\n",
    "    cv2.line(image, p1, p2, color, 3)\n",
    "    \n",
    "    # taking x, y values from points p1 and p2\n",
    "    x1, y1 = p1[0], p1[1]\n",
    "    x2, y2 = p2[0], p2[1]\n",
    "    \n",
    "    # finding the center\n",
    "    cx, cy = (x1 + x2) // 2, (y1 + y2) // 2\n",
    "    \n",
    "    # finding the length\n",
    "    length = math.hypot(x2 - x1, y2 - y1)\n",
    "    \n",
    "    return length, image, [x1, y1, x2, y2, cx, cy]"
   ]
  },
  {
   "cell_type": "markdown",
   "id": "2f0dc59d",
   "metadata": {},
   "source": [
    "# main part of this code where I am calling above created functions"
   ]
  },
  {
   "cell_type": "code",
   "execution_count": 5,
   "id": "4fd79a7f",
   "metadata": {},
   "outputs": [],
   "source": [
    "def controller():\n",
    "    quit = 'Yes'\n",
    "    # getting devices\n",
    "    devices = AudioUtilities.GetSpeakers()\n",
    "    \n",
    "    # activating above device\n",
    "    interface = devices.Activate(\n",
    "        IAudioEndpointVolume._iid_, CLSCTX_ALL, None)\n",
    "    volume = cast(interface, POINTER(IAudioEndpointVolume))\n",
    "    \n",
    "    # getting volume range of the selected device\n",
    "    volRange = volume.GetVolumeRange()\n",
    "    minVol = volRange[0]\n",
    "    maxVol = volRange[1]\n",
    "    \n",
    "    vol = 0\n",
    "    volBar = 400\n",
    "    volPer = 0\n",
    "    area = 0\n",
    "    colorVol = (255, 0, 0)\n",
    "\n",
    "    # capturing live video\n",
    "    cap = cv2.VideoCapture(0)\n",
    "    length = 0\n",
    "    lineInfo =[]\n",
    "    # Set mediapipe model \n",
    "    with mp_holistic.Holistic(min_detection_confidence=0.5, min_tracking_confidence=0.5) as holistic:\n",
    "        while cap.isOpened():\n",
    "\n",
    "            # Read feed\n",
    "            ret, frame = cap.read()\n",
    "\n",
    "            # Make detections\n",
    "            image, results = detect_mediapipe(frame, holistic)\n",
    "            \n",
    "            # getting height and width of the processed image/frame\n",
    "            h, w, c = image.shape\n",
    "\n",
    "            # for right hand\n",
    "            if results.right_hand_landmarks != None:\n",
    "                \n",
    "                #for thumb\n",
    "                x1 = int(results.right_hand_landmarks.landmark[4].x * w )\n",
    "                y1 = int(results.right_hand_landmarks.landmark[4].y * h )\n",
    "\n",
    "                #for index finger\n",
    "                x2 = int(results.right_hand_landmarks.landmark[8].x * w )\n",
    "                y2 = int(results.right_hand_landmarks.landmark[8].y * h )\n",
    "\n",
    "                color = (245,117,66)\n",
    "                point1 = (x1,y1)\n",
    "                point2 = (x2,y2)\n",
    "\n",
    "                length, img, lineInfo = find_distance(image,point1,point2,color)\n",
    "\n",
    "            # for left hand\n",
    "            if results.left_hand_landmarks != None:\n",
    "\n",
    "                #for thumb\n",
    "                x1 = int(results.left_hand_landmarks.landmark[4].x * w )\n",
    "                y1 = int(results.left_hand_landmarks.landmark[4].y * h )\n",
    "\n",
    "                #for index finger\n",
    "                x2 = int(results.left_hand_landmarks.landmark[8].x * w )\n",
    "                y2 = int(results.left_hand_landmarks.landmark[8].y * h )\n",
    "\n",
    "                color=(121,22,76)\n",
    "                point1 = (x1,y1)\n",
    "                point2 = (x2,y2)\n",
    "\n",
    "                length, img, lineInfo = find_distance(image,point1,point2,color)\n",
    "\n",
    "            # Convert Volume\n",
    "            volBar = np.interp(length, [50, 200], [400, 150])\n",
    "            volPer = np.interp(length, [50, 200], [0, 100])\n",
    "\n",
    "            # Reduce Resolution to make it smoother\n",
    "            smoothness = 10\n",
    "            volPer = smoothness * round(volPer / smoothness)\n",
    "\n",
    "            # setting up volume here\n",
    "            volume.SetMasterVolumeLevelScalar(volPer / 100, None)\n",
    "            colorVol = (0, 255, 0)\n",
    "            \n",
    "            # creating a box to show volume range\n",
    "            cv2.rectangle(image, (50, int(volBar)), (85, 400), (255, 0, 0), cv2.FILLED)\n",
    "            \n",
    "            # putting a text to show volume percentage\n",
    "            cv2.putText(image, 'Volume '+f'{int(volPer)} %', (40, 450), cv2.FONT_HERSHEY_COMPLEX, 1, (255, 0, 0), 3)\n",
    "\n",
    "            # Draw landmarks\n",
    "            draw_styled_landmarks(image, results)\n",
    "\n",
    "            # Show to screen\n",
    "            cv2.imshow('Volume', image)\n",
    "\n",
    "            # Break gracefully\n",
    "            if cv2.waitKey(10) & 0xFF == ord('q'):\n",
    "                print(\"##                                                   ##\")\n",
    "                print(\"##               Thankyou for using                  ##\")\n",
    "                print(\"#######################################################\")\n",
    "                break\n",
    "                \n",
    "        cap.release()\n",
    "        cv2.destroyAllWindows()"
   ]
  },
  {
   "cell_type": "code",
   "execution_count": 6,
   "id": "00133245",
   "metadata": {},
   "outputs": [
    {
     "name": "stdout",
     "output_type": "stream",
     "text": [
      "#######################################################\n",
      "##                                                   ##\n",
      "##                   Volume Controller               ##\n",
      "##                                                   ##\n",
      "#######################################################\n",
      "##                                                   ##\n",
      "##                                                   ##\n",
      "##                                                   ##\n",
      "##   Do you want to use this controller?? (yes/no)   ##\n",
      "##                                                   ##\n",
      "##                                                   ##\n",
      "##                                                   ##\n",
      "#######################################################\n",
      "y\n",
      "##                                                   ##\n",
      "##               Thankyou for using                  ##\n",
      "#######################################################\n"
     ]
    }
   ],
   "source": [
    "print(\"#######################################################\")\n",
    "print(\"##                                                   ##\")\n",
    "print(\"##                   Volume Controller               ##\")\n",
    "print(\"##                                                   ##\")\n",
    "print(\"#######################################################\")\n",
    "print(\"##                                                   ##\")\n",
    "print(\"##                                                   ##\")\n",
    "print(\"##                                                   ##\")\n",
    "print(\"##   Do you want to use this controller?? (yes/no)   ##\")\n",
    "print(\"##                                                   ##\")\n",
    "print(\"##                                                   ##\")\n",
    "print(\"##                                                   ##\")\n",
    "print(\"#######################################################\")\n",
    "\n",
    "inp = input().lower()\n",
    "quit = 'no'\n",
    "if inp in ['yes','y','ye']:\n",
    "    mp_holistic = mp.solutions.holistic # Holistic model\n",
    "    mp_drawing = mp.solutions.drawing_utils # Drawing utilities\n",
    "    quit = 'yes'\n",
    "    controller()\n",
    "        \n"
   ]
  },
  {
   "cell_type": "code",
   "execution_count": null,
   "id": "9407353b",
   "metadata": {},
   "outputs": [],
   "source": [
    "quit"
   ]
  },
  {
   "cell_type": "code",
   "execution_count": null,
   "id": "989bd79b",
   "metadata": {},
   "outputs": [],
   "source": [
    "        cap.release()\n",
    "        cv2.destroyAllWindows()"
   ]
  }
 ],
 "metadata": {
  "kernelspec": {
   "display_name": "Python 3",
   "language": "python",
   "name": "python3"
  },
  "language_info": {
   "codemirror_mode": {
    "name": "ipython",
    "version": 3
   },
   "file_extension": ".py",
   "mimetype": "text/x-python",
   "name": "python",
   "nbconvert_exporter": "python",
   "pygments_lexer": "ipython3",
   "version": "3.9.5"
  }
 },
 "nbformat": 4,
 "nbformat_minor": 5
}
